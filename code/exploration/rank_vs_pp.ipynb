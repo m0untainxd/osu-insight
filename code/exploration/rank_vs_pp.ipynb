{
 "cells": [
  {
   "attachments": {},
   "cell_type": "markdown",
   "metadata": {},
   "source": [
    "**Average Rank vs PP Over Time**\n",
    "\n",
    "This analysis aims to show how the average rank and average pp values have changed over time.\n",
    "\n",
    "This analysis will provide:\n",
    "- An interactive line graph with 2 lines depicting rank and pp\n",
    "- User will be able to select the range of dates from a slider"
   ]
  },
  {
   "cell_type": "code",
   "execution_count": 2,
   "metadata": {},
   "outputs": [],
   "source": [
    "import pandas as pd\n",
    "from pathlib import Path\n",
    "import numpy as np\n",
    "from datetime import date"
   ]
  },
  {
   "cell_type": "code",
   "execution_count": 5,
   "metadata": {},
   "outputs": [
    {
     "name": "stdout",
     "output_type": "stream",
     "text": [
      "<PeriodArray>\n",
      "['2014-05', '2014-06', '2014-07', '2014-08', '2014-09', '2014-10', '2014-11',\n",
      " '2014-12', '2015-01', '2015-02',\n",
      " ...\n",
      " '2022-01', '2022-02', '2022-03', '2022-04', '2022-05', '2022-06', '2022-07',\n",
      " '2022-08', '2022-09', '2022-10']\n",
      "Length: 102, dtype: period[M]\n"
     ]
    }
   ],
   "source": [
    "#open dataset with ranges\n",
    "path = Path.cwd().parent.parent.absolute()\n",
    "df = pd.read_csv(path / \"final_data/fixed_range_updates.csv\")\n",
    "\n",
    "#list of dicts containing each rank range to be evaluated\n",
    "ranges = [\n",
    "            {\"from\": 100000, \"to\": 200000, \"name\": \"100,000 - 200,000\"},\n",
    "            {\"from\": 50000, \"to\": 99999, \"name\": \"50,000 - 99,999\"},\n",
    "            {\"from\": 25000, \"to\": 49999, \"name\": \"25,000 - 49,999\"},\n",
    "            {\"from\": 10000, \"to\": 24999, \"name\": \"10,000 - 24,999\"},\n",
    "            {\"from\": 5000, \"to\": 9999, \"name\": \"5,000 - 9,999\"},\n",
    "            {\"from\": 1000, \"to\": 4999, \"name\": \"1,000 - 4,999\"},\n",
    "            {\"from\": 500, \"to\": 999, \"name\": \"500 - 999\"},\n",
    "            {\"from\": 100, \"to\": 499, \"name\": \"100 - 499\"}]\n",
    "\n",
    "#add date field to dataset\n",
    "df[\"timestamp\"].astype(str)\n",
    "df[\"date\"] = [x[:10] for x in df[\"timestamp\"]]\n",
    "df[\"date\"].astype(np.datetime64)\n",
    "\n",
    "#add month field\n",
    "df[\"month\"] = pd.to_datetime(df[\"date\"]).dt.to_period(\"M\")\n",
    "\n",
    "#drop unneeded columns\n",
    "df_new = df[[\"id\", \"pp_rank\", \"pp_raw\", \"month\"]]\n",
    "\n",
    "#get unique list of dates\n",
    "months = df_new[\"month\"].unique()\n",
    "print(months)"
   ]
  },
  {
   "attachments": {},
   "cell_type": "markdown",
   "metadata": {},
   "source": [
    "We will now iterate through the months to get the average values for pp and rank for that month"
   ]
  },
  {
   "cell_type": "code",
   "execution_count": 6,
   "metadata": {},
   "outputs": [
    {
     "name": "stdout",
     "output_type": "stream",
     "text": [
      "       month avg_rank   avg_pp\n",
      "0    2014-05  24771.0  1514.59\n",
      "1    2014-06  21064.0  1735.54\n",
      "2    2014-07  17298.0  2005.97\n",
      "3    2014-08  20833.5  1872.12\n",
      "4    2014-09  19490.0  2006.18\n",
      "..       ...      ...      ...\n",
      "97   2022-06  37142.0  5567.52\n",
      "98   2022-07  60395.0  4583.51\n",
      "99   2022-08  72276.0  4586.37\n",
      "100  2022-09  54086.5  5146.65\n",
      "101  2022-10  39228.0  5378.93\n",
      "\n",
      "[102 rows x 3 columns]\n"
     ]
    }
   ],
   "source": [
    "#create arrays for new data\n",
    "dates = []\n",
    "ranks = []\n",
    "pps = []\n",
    "\n",
    "for month in months:\n",
    "    this = df_new.loc[df_new[\"month\"] == month]\n",
    "    \n",
    "    #get averages\n",
    "    rank = this[\"pp_rank\"].median().astype(str)\n",
    "    pp = this[\"pp_raw\"].median().astype(str)\n",
    "\n",
    "    #append values to arrays\n",
    "    dates.append(month)\n",
    "    ranks.append(rank)\n",
    "    pps.append(pp)\n",
    "\n",
    "#create new dataset from this\n",
    "df_month_avgs = pd.DataFrame({\"month\": dates, \"avg_rank\": ranks, \"avg_pp\": pps})\n",
    "print(df_month_avgs)"
   ]
  },
  {
   "cell_type": "code",
   "execution_count": 7,
   "metadata": {},
   "outputs": [],
   "source": [
    "#drop this new dataset in a csv file\n",
    "\n",
    "df_month_avgs.to_csv(path / \"final_data/monthly_avgs.csv\")"
   ]
  }
 ],
 "metadata": {
  "kernelspec": {
   "display_name": "Python 3",
   "language": "python",
   "name": "python3"
  },
  "language_info": {
   "codemirror_mode": {
    "name": "ipython",
    "version": 3
   },
   "file_extension": ".py",
   "mimetype": "text/x-python",
   "name": "python",
   "nbconvert_exporter": "python",
   "pygments_lexer": "ipython3",
   "version": "3.9.13"
  },
  "orig_nbformat": 4
 },
 "nbformat": 4,
 "nbformat_minor": 2
}
